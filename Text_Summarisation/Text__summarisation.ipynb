{
  "cells": [
    {
      "cell_type": "code",
      "execution_count": null,
      "metadata": {
        "id": "TBHUfHMTHtto"
      },
      "outputs": [],
      "source": [
        "import pandas as pd\n",
        "import numpy as np \n",
        "import textwrap\n",
        "import nltk\n",
        "from nltk.corpus import stopwords\n",
        "from nltk import word_tokenize\n",
        "from nltk.stem import PorterStemmer,WordNetLemmatizer\n",
        "from sklearn.feature_extraction.text import TfidfVectorizer\n",
        "from sklearn.metrics.pairwise import cosine_similarity"
      ]
    },
    {
      "cell_type": "code",
      "execution_count": null,
      "metadata": {
        "colab": {
          "base_uri": "https://localhost:8080/"
        },
        "id": "4sDQrwXkIw5Y",
        "outputId": "3644f6a7-063c-476c-d1f3-90f354f31aae"
      },
      "outputs": [
        {
          "name": "stderr",
          "output_type": "stream",
          "text": [
            "[nltk_data] Downloading package punkt to /root/nltk_data...\n",
            "[nltk_data]   Package punkt is already up-to-date!\n",
            "[nltk_data] Downloading package stopwords to /root/nltk_data...\n",
            "[nltk_data]   Package stopwords is already up-to-date!\n"
          ]
        },
        {
          "data": {
            "text/plain": [
              "True"
            ]
          },
          "execution_count": 10,
          "metadata": {},
          "output_type": "execute_result"
        }
      ],
      "source": [
        "nltk.download('punkt')\n",
        "nltk.download('stopwords')"
      ]
    },
    {
      "cell_type": "code",
      "execution_count": null,
      "metadata": {
        "id": "xvoy1Tn0I_Qc"
      },
      "outputs": [],
      "source": [
        "df= pd.read_csv('bbc_text_cls.csv')"
      ]
    },
    {
      "cell_type": "code",
      "execution_count": null,
      "metadata": {
        "colab": {
          "base_uri": "https://localhost:8080/",
          "height": 206
        },
        "id": "RO6IX-sOJGqe",
        "outputId": "21d68887-1184-415d-ff51-8b8a14a697c3"
      },
      "outputs": [
        {
          "data": {
            "text/html": [
              "\n",
              "  <div id=\"df-15c462ff-fbc8-4faa-81d0-5e0e77fe338b\">\n",
              "    <div class=\"colab-df-container\">\n",
              "      <div>\n",
              "<style scoped>\n",
              "    .dataframe tbody tr th:only-of-type {\n",
              "        vertical-align: middle;\n",
              "    }\n",
              "\n",
              "    .dataframe tbody tr th {\n",
              "        vertical-align: top;\n",
              "    }\n",
              "\n",
              "    .dataframe thead th {\n",
              "        text-align: right;\n",
              "    }\n",
              "</style>\n",
              "<table border=\"1\" class=\"dataframe\">\n",
              "  <thead>\n",
              "    <tr style=\"text-align: right;\">\n",
              "      <th></th>\n",
              "      <th>text</th>\n",
              "      <th>labels</th>\n",
              "    </tr>\n",
              "  </thead>\n",
              "  <tbody>\n",
              "    <tr>\n",
              "      <th>0</th>\n",
              "      <td>Ad sales boost Time Warner profit\\n\\nQuarterly...</td>\n",
              "      <td>business</td>\n",
              "    </tr>\n",
              "    <tr>\n",
              "      <th>1</th>\n",
              "      <td>Dollar gains on Greenspan speech\\n\\nThe dollar...</td>\n",
              "      <td>business</td>\n",
              "    </tr>\n",
              "    <tr>\n",
              "      <th>2</th>\n",
              "      <td>Yukos unit buyer faces loan claim\\n\\nThe owner...</td>\n",
              "      <td>business</td>\n",
              "    </tr>\n",
              "    <tr>\n",
              "      <th>3</th>\n",
              "      <td>High fuel prices hit BA's profits\\n\\nBritish A...</td>\n",
              "      <td>business</td>\n",
              "    </tr>\n",
              "    <tr>\n",
              "      <th>4</th>\n",
              "      <td>Pernod takeover talk lifts Domecq\\n\\nShares in...</td>\n",
              "      <td>business</td>\n",
              "    </tr>\n",
              "  </tbody>\n",
              "</table>\n",
              "</div>\n",
              "      <button class=\"colab-df-convert\" onclick=\"convertToInteractive('df-15c462ff-fbc8-4faa-81d0-5e0e77fe338b')\"\n",
              "              title=\"Convert this dataframe to an interactive table.\"\n",
              "              style=\"display:none;\">\n",
              "        \n",
              "  <svg xmlns=\"http://www.w3.org/2000/svg\" height=\"24px\"viewBox=\"0 0 24 24\"\n",
              "       width=\"24px\">\n",
              "    <path d=\"M0 0h24v24H0V0z\" fill=\"none\"/>\n",
              "    <path d=\"M18.56 5.44l.94 2.06.94-2.06 2.06-.94-2.06-.94-.94-2.06-.94 2.06-2.06.94zm-11 1L8.5 8.5l.94-2.06 2.06-.94-2.06-.94L8.5 2.5l-.94 2.06-2.06.94zm10 10l.94 2.06.94-2.06 2.06-.94-2.06-.94-.94-2.06-.94 2.06-2.06.94z\"/><path d=\"M17.41 7.96l-1.37-1.37c-.4-.4-.92-.59-1.43-.59-.52 0-1.04.2-1.43.59L10.3 9.45l-7.72 7.72c-.78.78-.78 2.05 0 2.83L4 21.41c.39.39.9.59 1.41.59.51 0 1.02-.2 1.41-.59l7.78-7.78 2.81-2.81c.8-.78.8-2.07 0-2.86zM5.41 20L4 18.59l7.72-7.72 1.47 1.35L5.41 20z\"/>\n",
              "  </svg>\n",
              "      </button>\n",
              "      \n",
              "  <style>\n",
              "    .colab-df-container {\n",
              "      display:flex;\n",
              "      flex-wrap:wrap;\n",
              "      gap: 12px;\n",
              "    }\n",
              "\n",
              "    .colab-df-convert {\n",
              "      background-color: #E8F0FE;\n",
              "      border: none;\n",
              "      border-radius: 50%;\n",
              "      cursor: pointer;\n",
              "      display: none;\n",
              "      fill: #1967D2;\n",
              "      height: 32px;\n",
              "      padding: 0 0 0 0;\n",
              "      width: 32px;\n",
              "    }\n",
              "\n",
              "    .colab-df-convert:hover {\n",
              "      background-color: #E2EBFA;\n",
              "      box-shadow: 0px 1px 2px rgba(60, 64, 67, 0.3), 0px 1px 3px 1px rgba(60, 64, 67, 0.15);\n",
              "      fill: #174EA6;\n",
              "    }\n",
              "\n",
              "    [theme=dark] .colab-df-convert {\n",
              "      background-color: #3B4455;\n",
              "      fill: #D2E3FC;\n",
              "    }\n",
              "\n",
              "    [theme=dark] .colab-df-convert:hover {\n",
              "      background-color: #434B5C;\n",
              "      box-shadow: 0px 1px 3px 1px rgba(0, 0, 0, 0.15);\n",
              "      filter: drop-shadow(0px 1px 2px rgba(0, 0, 0, 0.3));\n",
              "      fill: #FFFFFF;\n",
              "    }\n",
              "  </style>\n",
              "\n",
              "      <script>\n",
              "        const buttonEl =\n",
              "          document.querySelector('#df-15c462ff-fbc8-4faa-81d0-5e0e77fe338b button.colab-df-convert');\n",
              "        buttonEl.style.display =\n",
              "          google.colab.kernel.accessAllowed ? 'block' : 'none';\n",
              "\n",
              "        async function convertToInteractive(key) {\n",
              "          const element = document.querySelector('#df-15c462ff-fbc8-4faa-81d0-5e0e77fe338b');\n",
              "          const dataTable =\n",
              "            await google.colab.kernel.invokeFunction('convertToInteractive',\n",
              "                                                     [key], {});\n",
              "          if (!dataTable) return;\n",
              "\n",
              "          const docLinkHtml = 'Like what you see? Visit the ' +\n",
              "            '<a target=\"_blank\" href=https://colab.research.google.com/notebooks/data_table.ipynb>data table notebook</a>'\n",
              "            + ' to learn more about interactive tables.';\n",
              "          element.innerHTML = '';\n",
              "          dataTable['output_type'] = 'display_data';\n",
              "          await google.colab.output.renderOutput(dataTable, element);\n",
              "          const docLink = document.createElement('div');\n",
              "          docLink.innerHTML = docLinkHtml;\n",
              "          element.appendChild(docLink);\n",
              "        }\n",
              "      </script>\n",
              "    </div>\n",
              "  </div>\n",
              "  "
            ],
            "text/plain": [
              "                                                text    labels\n",
              "0  Ad sales boost Time Warner profit\\n\\nQuarterly...  business\n",
              "1  Dollar gains on Greenspan speech\\n\\nThe dollar...  business\n",
              "2  Yukos unit buyer faces loan claim\\n\\nThe owner...  business\n",
              "3  High fuel prices hit BA's profits\\n\\nBritish A...  business\n",
              "4  Pernod takeover talk lifts Domecq\\n\\nShares in...  business"
            ]
          },
          "execution_count": 13,
          "metadata": {},
          "output_type": "execute_result"
        }
      ],
      "source": [
        "df.head()"
      ]
    },
    {
      "cell_type": "code",
      "execution_count": null,
      "metadata": {
        "colab": {
          "base_uri": "https://localhost:8080/",
          "height": 206
        },
        "id": "gmwR3aXXKYes",
        "outputId": "bb6dd882-4e30-440c-9fae-7fbb611c3ebc"
      },
      "outputs": [
        {
          "data": {
            "text/html": [
              "\n",
              "  <div id=\"df-11080515-f765-4e9f-9c79-ff934beb955e\">\n",
              "    <div class=\"colab-df-container\">\n",
              "      <div>\n",
              "<style scoped>\n",
              "    .dataframe tbody tr th:only-of-type {\n",
              "        vertical-align: middle;\n",
              "    }\n",
              "\n",
              "    .dataframe tbody tr th {\n",
              "        vertical-align: top;\n",
              "    }\n",
              "\n",
              "    .dataframe thead th {\n",
              "        text-align: right;\n",
              "    }\n",
              "</style>\n",
              "<table border=\"1\" class=\"dataframe\">\n",
              "  <thead>\n",
              "    <tr style=\"text-align: right;\">\n",
              "      <th></th>\n",
              "      <th>text</th>\n",
              "      <th>labels</th>\n",
              "    </tr>\n",
              "  </thead>\n",
              "  <tbody>\n",
              "    <tr>\n",
              "      <th>505</th>\n",
              "      <td>Trial begins of Spain's top banker\\n\\nThe tria...</td>\n",
              "      <td>business</td>\n",
              "    </tr>\n",
              "    <tr>\n",
              "      <th>506</th>\n",
              "      <td>UK economy ends year with spurt\\n\\nThe UK econ...</td>\n",
              "      <td>business</td>\n",
              "    </tr>\n",
              "    <tr>\n",
              "      <th>507</th>\n",
              "      <td>HealthSouth ex-boss goes on trial\\n\\nThe forme...</td>\n",
              "      <td>business</td>\n",
              "    </tr>\n",
              "    <tr>\n",
              "      <th>508</th>\n",
              "      <td>Euro firms miss out on optimism\\n\\nMore than 9...</td>\n",
              "      <td>business</td>\n",
              "    </tr>\n",
              "    <tr>\n",
              "      <th>509</th>\n",
              "      <td>Lacroix label bought by US firm\\n\\nLuxury good...</td>\n",
              "      <td>business</td>\n",
              "    </tr>\n",
              "  </tbody>\n",
              "</table>\n",
              "</div>\n",
              "      <button class=\"colab-df-convert\" onclick=\"convertToInteractive('df-11080515-f765-4e9f-9c79-ff934beb955e')\"\n",
              "              title=\"Convert this dataframe to an interactive table.\"\n",
              "              style=\"display:none;\">\n",
              "        \n",
              "  <svg xmlns=\"http://www.w3.org/2000/svg\" height=\"24px\"viewBox=\"0 0 24 24\"\n",
              "       width=\"24px\">\n",
              "    <path d=\"M0 0h24v24H0V0z\" fill=\"none\"/>\n",
              "    <path d=\"M18.56 5.44l.94 2.06.94-2.06 2.06-.94-2.06-.94-.94-2.06-.94 2.06-2.06.94zm-11 1L8.5 8.5l.94-2.06 2.06-.94-2.06-.94L8.5 2.5l-.94 2.06-2.06.94zm10 10l.94 2.06.94-2.06 2.06-.94-2.06-.94-.94-2.06-.94 2.06-2.06.94z\"/><path d=\"M17.41 7.96l-1.37-1.37c-.4-.4-.92-.59-1.43-.59-.52 0-1.04.2-1.43.59L10.3 9.45l-7.72 7.72c-.78.78-.78 2.05 0 2.83L4 21.41c.39.39.9.59 1.41.59.51 0 1.02-.2 1.41-.59l7.78-7.78 2.81-2.81c.8-.78.8-2.07 0-2.86zM5.41 20L4 18.59l7.72-7.72 1.47 1.35L5.41 20z\"/>\n",
              "  </svg>\n",
              "      </button>\n",
              "      \n",
              "  <style>\n",
              "    .colab-df-container {\n",
              "      display:flex;\n",
              "      flex-wrap:wrap;\n",
              "      gap: 12px;\n",
              "    }\n",
              "\n",
              "    .colab-df-convert {\n",
              "      background-color: #E8F0FE;\n",
              "      border: none;\n",
              "      border-radius: 50%;\n",
              "      cursor: pointer;\n",
              "      display: none;\n",
              "      fill: #1967D2;\n",
              "      height: 32px;\n",
              "      padding: 0 0 0 0;\n",
              "      width: 32px;\n",
              "    }\n",
              "\n",
              "    .colab-df-convert:hover {\n",
              "      background-color: #E2EBFA;\n",
              "      box-shadow: 0px 1px 2px rgba(60, 64, 67, 0.3), 0px 1px 3px 1px rgba(60, 64, 67, 0.15);\n",
              "      fill: #174EA6;\n",
              "    }\n",
              "\n",
              "    [theme=dark] .colab-df-convert {\n",
              "      background-color: #3B4455;\n",
              "      fill: #D2E3FC;\n",
              "    }\n",
              "\n",
              "    [theme=dark] .colab-df-convert:hover {\n",
              "      background-color: #434B5C;\n",
              "      box-shadow: 0px 1px 3px 1px rgba(0, 0, 0, 0.15);\n",
              "      filter: drop-shadow(0px 1px 2px rgba(0, 0, 0, 0.3));\n",
              "      fill: #FFFFFF;\n",
              "    }\n",
              "  </style>\n",
              "\n",
              "      <script>\n",
              "        const buttonEl =\n",
              "          document.querySelector('#df-11080515-f765-4e9f-9c79-ff934beb955e button.colab-df-convert');\n",
              "        buttonEl.style.display =\n",
              "          google.colab.kernel.accessAllowed ? 'block' : 'none';\n",
              "\n",
              "        async function convertToInteractive(key) {\n",
              "          const element = document.querySelector('#df-11080515-f765-4e9f-9c79-ff934beb955e');\n",
              "          const dataTable =\n",
              "            await google.colab.kernel.invokeFunction('convertToInteractive',\n",
              "                                                     [key], {});\n",
              "          if (!dataTable) return;\n",
              "\n",
              "          const docLinkHtml = 'Like what you see? Visit the ' +\n",
              "            '<a target=\"_blank\" href=https://colab.research.google.com/notebooks/data_table.ipynb>data table notebook</a>'\n",
              "            + ' to learn more about interactive tables.';\n",
              "          element.innerHTML = '';\n",
              "          dataTable['output_type'] = 'display_data';\n",
              "          await google.colab.output.renderOutput(dataTable, element);\n",
              "          const docLink = document.createElement('div');\n",
              "          docLink.innerHTML = docLinkHtml;\n",
              "          element.appendChild(docLink);\n",
              "        }\n",
              "      </script>\n",
              "    </div>\n",
              "  </div>\n",
              "  "
            ],
            "text/plain": [
              "                                                  text    labels\n",
              "505  Trial begins of Spain's top banker\\n\\nThe tria...  business\n",
              "506  UK economy ends year with spurt\\n\\nThe UK econ...  business\n",
              "507  HealthSouth ex-boss goes on trial\\n\\nThe forme...  business\n",
              "508  Euro firms miss out on optimism\\n\\nMore than 9...  business\n",
              "509  Lacroix label bought by US firm\\n\\nLuxury good...  business"
            ]
          },
          "execution_count": 14,
          "metadata": {},
          "output_type": "execute_result"
        }
      ],
      "source": [
        "df[df.labels == 'business'].tail()"
      ]
    },
    {
      "cell_type": "code",
      "execution_count": null,
      "metadata": {
        "colab": {
          "base_uri": "https://localhost:8080/"
        },
        "id": "NDFT_VDfLfMb",
        "outputId": "ba3803b7-e695-427d-88e6-bba87002a502"
      },
      "outputs": [
        {
          "data": {
            "text/plain": [
              "(1,)"
            ]
          },
          "execution_count": 15,
          "metadata": {},
          "output_type": "execute_result"
        }
      ],
      "source": [
        "df[df.labels == 'business']['text'].sample().shape"
      ]
    },
    {
      "cell_type": "code",
      "execution_count": null,
      "metadata": {
        "id": "ZdepMmkGMJS2"
      },
      "outputs": [],
      "source": []
    },
    {
      "cell_type": "code",
      "execution_count": null,
      "metadata": {
        "id": "Z7hI4zhnJQph"
      },
      "outputs": [],
      "source": [
        "doc = df[df.labels == 'business']['text'].sample(random_state =42)"
      ]
    },
    {
      "cell_type": "code",
      "execution_count": null,
      "metadata": {
        "id": "dktIQasQJhkj"
      },
      "outputs": [],
      "source": [
        "def wrap(x):\n",
        "  return textwrap.fill(x, replace_whitespace= False,fix_sentence_endings = True)"
      ]
    },
    {
      "cell_type": "code",
      "execution_count": null,
      "metadata": {
        "colab": {
          "base_uri": "https://localhost:8080/",
          "height": 105
        },
        "id": "JY2uABwZKE_u",
        "outputId": "8e1d49dc-7965-4ec8-d8f6-467f6e713b49"
      },
      "outputs": [
        {
          "data": {
            "application/vnd.google.colaboratory.intrinsic+json": {
              "type": "string"
            },
            "text/plain": [
              "'Christmas sales worst since 1981\\n\\nUK retail sales fell in December, failing to meet expectations and making it by some counts the worst Christmas since 1981.\\n\\nRetail sales dropped by 1% on the month in December, after a 0.6% rise in November, the Office for National Statistics (ONS) said. The ONS revised the annual 2004 rate of growth down from the 5.9% estimated in November to 3.2%. A number of retailers have already reported poor figures for December. Clothing retailers and non-specialist stores were the worst hit with only internet retailers showing any significant growth, according to the ONS.\\n\\nThe last time retailers endured a tougher Christmas was 23 years previously, when sales plunged 1.7%.\\n\\nThe ONS echoed an earlier caution from Bank of England governor Mervyn King not to read too much into the poor December figures. Some analysts put a positive gloss on the figures, pointing out that the non-seasonally-adjusted figures showed a performance comparable with 2003. The November-December jump last year was roughly comparable with recent averages, although some way below the serious booms seen in the 1990s. And figures for retail volume outperformed measures of actual spending, an indication that consumers are looking for bargains, and retailers are cutting their prices.\\n\\nHowever, reports from some High Street retailers highlight the weakness of the sector. Morrisons, Woolworths, House of Fraser, Marks & Spencer and Big Food all said that the festive period was disappointing.\\n\\nAnd a British Retail Consortium survey found that Christmas 2004 was the worst for 10 years. Yet, other retailers - including HMV, Monsoon, Jessops, Body Shop and Tesco - reported that festive sales were well up on last year. Investec chief economist Philip Shaw said he did not expect the poor retail figures to have any immediate effect on interest rates. \"The retail sales figures are very weak, but as Bank of England governor Mervyn King indicated last night, you don\\'t really get an accurate impression of Christmas trading until about Easter,\" said Mr Shaw. \"Our view is the Bank of England will keep its powder dry and wait to see the big picture.\"'"
            ]
          },
          "execution_count": 18,
          "metadata": {},
          "output_type": "execute_result"
        }
      ],
      "source": [
        "doc.iloc[0]"
      ]
    },
    {
      "cell_type": "code",
      "execution_count": null,
      "metadata": {
        "colab": {
          "base_uri": "https://localhost:8080/"
        },
        "id": "FcH50Sr_KIf7",
        "outputId": "5453e326-4e8f-44c2-81bf-ffb3c54a4033"
      },
      "outputs": [
        {
          "name": "stdout",
          "output_type": "stream",
          "text": [
            "Christmas sales worst since 1981\n",
            "\n",
            "UK retail sales fell in December,\n",
            "failing to meet expectations and making it by some counts the worst\n",
            "Christmas since 1981.\n",
            "\n",
            "Retail sales dropped by 1% on the month in\n",
            "December, after a 0.6% rise in November, the Office for National\n",
            "Statistics (ONS) said.  The ONS revised the annual 2004 rate of growth\n",
            "down from the 5.9% estimated in November to 3.2%. A number of\n",
            "retailers have already reported poor figures for December.  Clothing\n",
            "retailers and non-specialist stores were the worst hit with only\n",
            "internet retailers showing any significant growth, according to the\n",
            "ONS.\n",
            "\n",
            "The last time retailers endured a tougher Christmas was 23 years\n",
            "previously, when sales plunged 1.7%.\n",
            "\n",
            "The ONS echoed an earlier\n",
            "caution from Bank of England governor Mervyn King not to read too much\n",
            "into the poor December figures.  Some analysts put a positive gloss on\n",
            "the figures, pointing out that the non-seasonally-adjusted figures\n",
            "showed a performance comparable with 2003. The November-December jump\n",
            "last year was roughly comparable with recent averages, although some\n",
            "way below the serious booms seen in the 1990s.  And figures for retail\n",
            "volume outperformed measures of actual spending, an indication that\n",
            "consumers are looking for bargains, and retailers are cutting their\n",
            "prices.\n",
            "\n",
            "However, reports from some High Street retailers highlight\n",
            "the weakness of the sector.  Morrisons, Woolworths, House of Fraser,\n",
            "Marks & Spencer and Big Food all said that the festive period was\n",
            "disappointing.\n",
            "\n",
            "And a British Retail Consortium survey found that\n",
            "Christmas 2004 was the worst for 10 years.  Yet, other retailers -\n",
            "including HMV, Monsoon, Jessops, Body Shop and Tesco - reported that\n",
            "festive sales were well up on last year.  Investec chief economist\n",
            "Philip Shaw said he did not expect the poor retail figures to have any\n",
            "immediate effect on interest rates.  \"The retail sales figures are\n",
            "very weak, but as Bank of England governor Mervyn King indicated last\n",
            "night, you don't really get an accurate impression of Christmas\n",
            "trading until about Easter,\" said Mr Shaw.  \"Our view is the Bank of\n",
            "England will keep its powder dry and wait to see the big picture.\"\n"
          ]
        }
      ],
      "source": [
        "print(wrap(doc.iloc[0]))"
      ]
    },
    {
      "cell_type": "code",
      "execution_count": null,
      "metadata": {
        "id": "3RE6kI8_LRTQ"
      },
      "outputs": [],
      "source": [
        "sents = nltk.sent_tokenize(doc.iloc[0].split(\"\\n\",1)[1])\n",
        "# notice the above lines that the ilox[0] return the document as a string \n",
        "# we split it in to two parts\n",
        "# this is done as we want to seperate the title from the main text\n",
        "# the first line is title \n",
        "# tyhen in the [title,text] we are indexin forthe text by the \"[1] \" at the at the end \n"
      ]
    },
    {
      "cell_type": "code",
      "execution_count": null,
      "metadata": {
        "colab": {
          "base_uri": "https://localhost:8080/"
        },
        "id": "ew2h_sXRCbRI",
        "outputId": "ac85fd57-065b-4485-f177-150d1c6b5d88"
      },
      "outputs": [
        {
          "data": {
            "text/plain": [
              "['Goodrem wins top female MTV prize',\n",
              " \"\\nPop singer Delta Goodrem has scooped one of the top individual prizes at the first Australian MTV Music Awards.\\n\\nThe 21-year-old singer won the award for best female artist, with Australian Idol runner-up Shannon Noll taking the title of best male at the ceremony. Goodrem, known in both Britain and Australia for her role as Nina Tucker in TV soap Neighbours, also performed a duet with boyfriend Brian McFadden. Other winners included Green Day, voted best group, and the Black Eyed Peas. Goodrem, Green Day and the Black Eyed Peas took home two awards each. As well as best female, Goodrem also took home the Pepsi Viewers Choice Award, whilst Green Day bagged the prize for best rock video for American Idiot. The Black Eyed Peas won awards for best R 'n' B video and sexiest video, both for Hey Mama. Local singer and songwriter Missy Higgins took the title of breakthrough artist of the year, with Australian Idol winner Guy Sebastian taking the honours for best pop video. The VH1 First Music Award went to Cher honouring her achievements within the music industry. The ceremony was held at the Luna Park fairground in Sydney Harbour and was hosted by the Osbourne family. Artists including Carmen Electra, Missy Higgins, Kelly Osbourne, Green Day, Ja Rule and Natalie Imbruglia gave live performances at the event.\"]"
            ]
          },
          "execution_count": 35,
          "metadata": {},
          "output_type": "execute_result"
        }
      ],
      "source": [
        "doc.iloc[0].split(\"\\n\",1)"
      ]
    },
    {
      "cell_type": "code",
      "execution_count": null,
      "metadata": {
        "colab": {
          "base_uri": "https://localhost:8080/"
        },
        "id": "x1pEj3y5CyDU",
        "outputId": "ccf23a12-3b06-4dbb-c021-8108294864c9"
      },
      "outputs": [
        {
          "data": {
            "text/plain": [
              "['\\nUK retail sales fell in December, failing to meet expectations and making it by some counts the worst Christmas since 1981.',\n",
              " 'Retail sales dropped by 1% on the month in December, after a 0.6% rise in November, the Office for National Statistics (ONS) said.',\n",
              " 'The ONS revised the annual 2004 rate of growth down from the 5.9% estimated in November to 3.2%.',\n",
              " 'A number of retailers have already reported poor figures for December.',\n",
              " 'Clothing retailers and non-specialist stores were the worst hit with only internet retailers showing any significant growth, according to the ONS.',\n",
              " 'The last time retailers endured a tougher Christmas was 23 years previously, when sales plunged 1.7%.',\n",
              " 'The ONS echoed an earlier caution from Bank of England governor Mervyn King not to read too much into the poor December figures.',\n",
              " 'Some analysts put a positive gloss on the figures, pointing out that the non-seasonally-adjusted figures showed a performance comparable with 2003.',\n",
              " 'The November-December jump last year was roughly comparable with recent averages, although some way below the serious booms seen in the 1990s.',\n",
              " 'And figures for retail volume outperformed measures of actual spending, an indication that consumers are looking for bargains, and retailers are cutting their prices.',\n",
              " 'However, reports from some High Street retailers highlight the weakness of the sector.',\n",
              " 'Morrisons, Woolworths, House of Fraser, Marks & Spencer and Big Food all said that the festive period was disappointing.',\n",
              " 'And a British Retail Consortium survey found that Christmas 2004 was the worst for 10 years.',\n",
              " 'Yet, other retailers - including HMV, Monsoon, Jessops, Body Shop and Tesco - reported that festive sales were well up on last year.',\n",
              " 'Investec chief economist Philip Shaw said he did not expect the poor retail figures to have any immediate effect on interest rates.',\n",
              " '\"The retail sales figures are very weak, but as Bank of England governor Mervyn King indicated last night, you don\\'t really get an accurate impression of Christmas trading until about Easter,\" said Mr Shaw.',\n",
              " '\"Our view is the Bank of England will keep its powder dry and wait to see the big picture.\"']"
            ]
          },
          "execution_count": 37,
          "metadata": {},
          "output_type": "execute_result"
        }
      ],
      "source": [
        "sents"
      ]
    },
    {
      "cell_type": "code",
      "execution_count": null,
      "metadata": {
        "id": "3jr7en8MNdJK"
      },
      "outputs": [],
      "source": [
        "V = TfidfVectorizer(\n",
        "    stop_words = stopwords.words('english'),\n",
        "    norm='l1',\n",
        ")\n",
        "# important\n",
        "# the norm ='l1' is applied to give equal importance to all th e  sentences as ther are sentences \n",
        "# of varying lenght in our input "
      ]
    },
    {
      "cell_type": "code",
      "execution_count": null,
      "metadata": {
        "id": "33BksOLsNsb8"
      },
      "outputs": [],
      "source": [
        "X = V.fit_transform(sents)"
      ]
    },
    {
      "cell_type": "code",
      "execution_count": null,
      "metadata": {
        "id": "ahiO9rUvNyk8"
      },
      "outputs": [],
      "source": [
        "def get_sentence_score(tfidf_row):\n",
        "  # return the mean of the the tfidf values of that row\n",
        "  # the mean f only those values whivh are not \"0\"\n",
        "  x = tfidf_row[tfidf_row != 0]\n",
        "  return x.mean()\n",
        "  "
      ]
    },
    {
      "cell_type": "code",
      "execution_count": null,
      "metadata": {
        "id": "CBJjsHTaO57r"
      },
      "outputs": [],
      "source": [
        "scores = np.zeros(len(sents))\n",
        "for i in range(len(sents)):\n",
        "  score = get_sentence_score(X[i,:])\n",
        "  scores[i] = score"
      ]
    },
    {
      "cell_type": "code",
      "execution_count": null,
      "metadata": {
        "id": "DThU5YuRPVtP"
      },
      "outputs": [],
      "source": [
        "# we neend to sort the scores\\\n",
        "sort_idx =np.argsort(-scores)\n",
        "# by default the argesort  sorts in ascending order thsu we need ro put the neagtive sighn"
      ]
    },
    {
      "cell_type": "code",
      "execution_count": null,
      "metadata": {
        "colab": {
          "base_uri": "https://localhost:8080/"
        },
        "id": "b1fwP3ZDPzKm",
        "outputId": "e94f2ee6-f38a-4ccf-ce01-e390bd834c16"
      },
      "outputs": [
        {
          "name": "stdout",
          "output_type": "stream",
          "text": [
            "this is the grnerated summary\n",
            "0.14 : A number of retailers have already reported poor figures for\n",
            "December.\n",
            "0.13 : However, reports from some High Street retailers highlight the\n",
            "weakness of the sector.\n",
            "0.12 : The ONS revised the annual 2004 rate of growth down from the\n",
            "5.9% estimated in November to 3.2%.\n",
            "0.10 : \"Our view is the Bank of England will keep its powder dry and\n",
            "wait to see the big picture.\"\n",
            "0.10 : And a British Retail Consortium survey found that Christmas\n",
            "2004 was the worst for 10 years.\n"
          ]
        }
      ],
      "source": [
        "print(\"this is the grnerated summary\")\n",
        "for i in sort_idx[:5]:\n",
        "  print(wrap(\"%0.2f : %s\" % (scores[i],sents[i])))"
      ]
    },
    {
      "cell_type": "code",
      "execution_count": null,
      "metadata": {
        "colab": {
          "base_uri": "https://localhost:8080/",
          "height": 35
        },
        "id": "X6E87ueuQiGf",
        "outputId": "9eb72d4a-ef38-4445-f530-cd8d23c2b147"
      },
      "outputs": [
        {
          "data": {
            "application/vnd.google.colaboratory.intrinsic+json": {
              "type": "string"
            },
            "text/plain": [
              "'Christmas sales worst since 1981'"
            ]
          },
          "execution_count": 27,
          "metadata": {},
          "output_type": "execute_result"
        }
      ],
      "source": [
        "# there is one wat to chech if this is a good summary or not \n",
        "# it is to compare  it with its  title \n",
        "doc.iloc[0].split(\"\\n\",1)[0]"
      ]
    },
    {
      "cell_type": "code",
      "execution_count": null,
      "metadata": {
        "id": "2hav413MRTRQ"
      },
      "outputs": [],
      "source": [
        "def summarise(text):\n",
        "  sents = nltk.sent_tokenize(text)\n",
        "  X = V.fit_transform(sents)\n",
        "\n",
        "  scores = np.zeros(len(sents))\n",
        "  for i in range(len(sents)):\n",
        "    score = get_sentence_score(X[i,:])\n",
        "    scores[i] = score\n",
        "  sort_idx =np.argsort(-scores)\n",
        "\n",
        "\n",
        "  for i in sort_idx[:5]:\n",
        "    print(wrap(\"%0.2f : %s\" % (scores[i],sents[i])))\n",
        "\n",
        "\n",
        "\n",
        "\n"
      ]
    },
    {
      "cell_type": "code",
      "execution_count": null,
      "metadata": {
        "id": "EsbCdKwrTjTn"
      },
      "outputs": [],
      "source": [
        "# thus above we group together everything that wwe have implemented so far\n",
        "# we will now test t out \n"
      ]
    },
    {
      "cell_type": "code",
      "execution_count": null,
      "metadata": {
        "colab": {
          "base_uri": "https://localhost:8080/"
        },
        "id": "jxCr88mtTdEy",
        "outputId": "4fe43aa8-db39-4443-d4ee-bde69d1382be"
      },
      "outputs": [
        {
          "name": "stdout",
          "output_type": "stream",
          "text": [
            "0.11 : The Black Eyed Peas won awards for best R 'n' B video and\n",
            "sexiest video, both for Hey Mama.\n",
            "0.10 : The ceremony was held at the Luna Park fairground in Sydney\n",
            "Harbour and was hosted by the Osbourne family.\n",
            "0.10 : Goodrem, Green Day and the Black Eyed Peas took home two awards\n",
            "each.\n",
            "0.10 : Other winners included Green Day, voted best group, and the\n",
            "Black Eyed Peas.\n",
            "0.10 : The VH1 First Music Award went to Cher honouring her\n",
            "achievements within the music industry.\n"
          ]
        }
      ],
      "source": [
        "doc = df[df.labels == 'entertainment']['text'].sample(random_state=123)\n",
        "\n",
        "summarise(doc.iloc[0].split(\"\\n\",1)[1])"
      ]
    },
    {
      "cell_type": "code",
      "execution_count": null,
      "metadata": {
        "colab": {
          "base_uri": "https://localhost:8080/",
          "height": 35
        },
        "id": "LX3owNoaT_nF",
        "outputId": "10ca3fee-e1c5-4ccd-f898-1f935aafb60b"
      },
      "outputs": [
        {
          "data": {
            "application/vnd.google.colaboratory.intrinsic+json": {
              "type": "string"
            },
            "text/plain": [
              "'Goodrem wins top female MTV prize'"
            ]
          },
          "execution_count": 31,
          "metadata": {},
          "output_type": "execute_result"
        }
      ],
      "source": [
        "# the title is \n",
        "\n",
        "doc.iloc[0].split(\"\\n\",1)[0]"
      ]
    },
    {
      "cell_type": "code",
      "execution_count": null,
      "metadata": {
        "colab": {
          "base_uri": "https://localhost:8080/"
        },
        "id": "U2RcsRLlUWXq",
        "outputId": "b2345302-e5a3-4d87-ad48-23c2a0ff827b"
      },
      "outputs": [
        {
          "name": "stdout",
          "output_type": "stream",
          "text": [
            "Goodrem wins top female MTV prize\n",
            "\n",
            "Pop singer Delta Goodrem has\n",
            "scooped one of the top individual prizes at the first Australian MTV\n",
            "Music Awards.\n",
            "\n",
            "The 21-year-old singer won the award for best female\n",
            "artist, with Australian Idol runner-up Shannon Noll taking the title\n",
            "of best male at the ceremony.  Goodrem, known in both Britain and\n",
            "Australia for her role as Nina Tucker in TV soap Neighbours, also\n",
            "performed a duet with boyfriend Brian McFadden.  Other winners\n",
            "included Green Day, voted best group, and the Black Eyed Peas.\n",
            "Goodrem, Green Day and the Black Eyed Peas took home two awards each.\n",
            "As well as best female, Goodrem also took home the Pepsi Viewers\n",
            "Choice Award, whilst Green Day bagged the prize for best rock video\n",
            "for American Idiot.  The Black Eyed Peas won awards for best R 'n' B\n",
            "video and sexiest video, both for Hey Mama.  Local singer and\n",
            "songwriter Missy Higgins took the title of breakthrough artist of the\n",
            "year, with Australian Idol winner Guy Sebastian taking the honours for\n",
            "best pop video.  The VH1 First Music Award went to Cher honouring her\n",
            "achievements within the music industry.  The ceremony was held at the\n",
            "Luna Park fairground in Sydney Harbour and was hosted by the Osbourne\n",
            "family.  Artists including Carmen Electra, Missy Higgins, Kelly\n",
            "Osbourne, Green Day, Ja Rule and Natalie Imbruglia gave live\n",
            "performances at the event.\n"
          ]
        }
      ],
      "source": [
        "print(wrap(doc.iloc[0]))"
      ]
    }
  ],
  "metadata": {
    "colab": {
      "collapsed_sections": [],
      "name": "Text _summarisation.ipynb",
      "provenance": []
    },
    "kernelspec": {
      "display_name": "Python 3",
      "name": "python3"
    },
    "language_info": {
      "name": "python"
    }
  },
  "nbformat": 4,
  "nbformat_minor": 0
}
